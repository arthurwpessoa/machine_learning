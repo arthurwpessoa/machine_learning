{
 "cells": [
  {
   "cell_type": "code",
   "execution_count": 1943,
   "id": "44ba711f",
   "metadata": {},
   "outputs": [],
   "source": [
    "# Required libraries\n",
    "import numpy as np\n",
    "import math\n",
    "import matplotlib.pyplot as plt\n",
    "import seaborn as sns\n",
    "import pandas as pd\n",
    "from sklearn.model_selection import train_test_split\n",
    "from sklearn.linear_model import LinearRegression"
   ]
  },
  {
   "cell_type": "code",
   "execution_count": 1944,
   "id": "cbc3a76e",
   "metadata": {},
   "outputs": [
    {
     "data": {
      "text/html": [
       "<div>\n",
       "<style scoped>\n",
       "    .dataframe tbody tr th:only-of-type {\n",
       "        vertical-align: middle;\n",
       "    }\n",
       "\n",
       "    .dataframe tbody tr th {\n",
       "        vertical-align: top;\n",
       "    }\n",
       "\n",
       "    .dataframe thead th {\n",
       "        text-align: right;\n",
       "    }\n",
       "</style>\n",
       "<table border=\"1\" class=\"dataframe\">\n",
       "  <thead>\n",
       "    <tr style=\"text-align: right;\">\n",
       "      <th></th>\n",
       "      <th>sales_outlet_id</th>\n",
       "      <th>transaction_date</th>\n",
       "      <th>product_id</th>\n",
       "      <th>start_of_day</th>\n",
       "      <th>quantity_sold</th>\n",
       "      <th>waste</th>\n",
       "      <th>% waste</th>\n",
       "    </tr>\n",
       "  </thead>\n",
       "  <tbody>\n",
       "    <tr>\n",
       "      <th>0</th>\n",
       "      <td>3</td>\n",
       "      <td>4/1/2019</td>\n",
       "      <td>69</td>\n",
       "      <td>18</td>\n",
       "      <td>8</td>\n",
       "      <td>10</td>\n",
       "      <td>56%</td>\n",
       "    </tr>\n",
       "    <tr>\n",
       "      <th>1</th>\n",
       "      <td>3</td>\n",
       "      <td>4/1/2019</td>\n",
       "      <td>70</td>\n",
       "      <td>18</td>\n",
       "      <td>12</td>\n",
       "      <td>6</td>\n",
       "      <td>33%</td>\n",
       "    </tr>\n",
       "    <tr>\n",
       "      <th>2</th>\n",
       "      <td>3</td>\n",
       "      <td>4/1/2019</td>\n",
       "      <td>71</td>\n",
       "      <td>18</td>\n",
       "      <td>8</td>\n",
       "      <td>10</td>\n",
       "      <td>56%</td>\n",
       "    </tr>\n",
       "    <tr>\n",
       "      <th>3</th>\n",
       "      <td>3</td>\n",
       "      <td>4/1/2019</td>\n",
       "      <td>72</td>\n",
       "      <td>48</td>\n",
       "      <td>9</td>\n",
       "      <td>39</td>\n",
       "      <td>81%</td>\n",
       "    </tr>\n",
       "    <tr>\n",
       "      <th>4</th>\n",
       "      <td>3</td>\n",
       "      <td>4/1/2019</td>\n",
       "      <td>73</td>\n",
       "      <td>18</td>\n",
       "      <td>9</td>\n",
       "      <td>9</td>\n",
       "      <td>50%</td>\n",
       "    </tr>\n",
       "  </tbody>\n",
       "</table>\n",
       "</div>"
      ],
      "text/plain": [
       "   sales_outlet_id transaction_date  product_id  start_of_day  quantity_sold  \\\n",
       "0                3         4/1/2019          69            18              8   \n",
       "1                3         4/1/2019          70            18             12   \n",
       "2                3         4/1/2019          71            18              8   \n",
       "3                3         4/1/2019          72            48              9   \n",
       "4                3         4/1/2019          73            18              9   \n",
       "\n",
       "   waste % waste  \n",
       "0     10     56%  \n",
       "1      6     33%  \n",
       "2     10     56%  \n",
       "3     39     81%  \n",
       "4      9     50%  "
      ]
     },
     "execution_count": 1944,
     "metadata": {},
     "output_type": "execute_result"
    }
   ],
   "source": [
    "#Reading pastry dataset\n",
    "df = pd.read_csv('../datasets/coffee_shop/pastry.csv')\n",
    "\n",
    "df.head()"
   ]
  },
  {
   "cell_type": "code",
   "execution_count": 1945,
   "id": "3af8de75",
   "metadata": {},
   "outputs": [],
   "source": [
    "# Drops null values\n",
    "df.dropna(inplace = True)"
   ]
  },
  {
   "cell_type": "code",
   "execution_count": 1946,
   "id": "9bd994c7",
   "metadata": {},
   "outputs": [],
   "source": [
    "# Replaces column to remove special character\n",
    "df = df.drop(columns={'% waste'})"
   ]
  },
  {
   "cell_type": "code",
   "execution_count": 1947,
   "id": "3d130b71",
   "metadata": {},
   "outputs": [],
   "source": [
    "# Adds a new column with the equivalent day of week of each date\n",
    "# MONDAY: 0 - SUNDAY 6\n",
    "df[\"transaction_weekday\"] = pd.to_datetime(df['transaction_date'], format = '%m/%d/%Y').dt.dayofweek\n",
    "\n",
    "df = df.drop(columns={'transaction_date'})"
   ]
  },
  {
   "cell_type": "code",
   "execution_count": 1948,
   "id": "e324c0f6",
   "metadata": {},
   "outputs": [],
   "source": [
    "df[\"quantity_consumed\"] = df['start_of_day'] - df['quantity_sold']"
   ]
  },
  {
   "cell_type": "code",
   "execution_count": 1949,
   "id": "f0e12126",
   "metadata": {},
   "outputs": [
    {
     "data": {
      "text/html": [
       "<div>\n",
       "<style scoped>\n",
       "    .dataframe tbody tr th:only-of-type {\n",
       "        vertical-align: middle;\n",
       "    }\n",
       "\n",
       "    .dataframe tbody tr th {\n",
       "        vertical-align: top;\n",
       "    }\n",
       "\n",
       "    .dataframe thead th {\n",
       "        text-align: right;\n",
       "    }\n",
       "</style>\n",
       "<table border=\"1\" class=\"dataframe\">\n",
       "  <thead>\n",
       "    <tr style=\"text-align: right;\">\n",
       "      <th></th>\n",
       "      <th>sales_outlet_id</th>\n",
       "      <th>product_id</th>\n",
       "      <th>start_of_day</th>\n",
       "      <th>quantity_sold</th>\n",
       "      <th>waste</th>\n",
       "      <th>transaction_weekday</th>\n",
       "      <th>quantity_consumed</th>\n",
       "    </tr>\n",
       "  </thead>\n",
       "  <tbody>\n",
       "    <tr>\n",
       "      <th>0</th>\n",
       "      <td>3</td>\n",
       "      <td>69</td>\n",
       "      <td>18</td>\n",
       "      <td>8</td>\n",
       "      <td>10</td>\n",
       "      <td>0</td>\n",
       "      <td>10</td>\n",
       "    </tr>\n",
       "    <tr>\n",
       "      <th>1</th>\n",
       "      <td>3</td>\n",
       "      <td>70</td>\n",
       "      <td>18</td>\n",
       "      <td>12</td>\n",
       "      <td>6</td>\n",
       "      <td>0</td>\n",
       "      <td>6</td>\n",
       "    </tr>\n",
       "    <tr>\n",
       "      <th>2</th>\n",
       "      <td>3</td>\n",
       "      <td>71</td>\n",
       "      <td>18</td>\n",
       "      <td>8</td>\n",
       "      <td>10</td>\n",
       "      <td>0</td>\n",
       "      <td>10</td>\n",
       "    </tr>\n",
       "    <tr>\n",
       "      <th>3</th>\n",
       "      <td>3</td>\n",
       "      <td>72</td>\n",
       "      <td>48</td>\n",
       "      <td>9</td>\n",
       "      <td>39</td>\n",
       "      <td>0</td>\n",
       "      <td>39</td>\n",
       "    </tr>\n",
       "    <tr>\n",
       "      <th>4</th>\n",
       "      <td>3</td>\n",
       "      <td>73</td>\n",
       "      <td>18</td>\n",
       "      <td>9</td>\n",
       "      <td>9</td>\n",
       "      <td>0</td>\n",
       "      <td>9</td>\n",
       "    </tr>\n",
       "  </tbody>\n",
       "</table>\n",
       "</div>"
      ],
      "text/plain": [
       "   sales_outlet_id  product_id  start_of_day  quantity_sold  waste  \\\n",
       "0                3          69            18              8     10   \n",
       "1                3          70            18             12      6   \n",
       "2                3          71            18              8     10   \n",
       "3                3          72            48              9     39   \n",
       "4                3          73            18              9      9   \n",
       "\n",
       "   transaction_weekday  quantity_consumed  \n",
       "0                    0                 10  \n",
       "1                    0                  6  \n",
       "2                    0                 10  \n",
       "3                    0                 39  \n",
       "4                    0                  9  "
      ]
     },
     "execution_count": 1949,
     "metadata": {},
     "output_type": "execute_result"
    }
   ],
   "source": [
    "df.head()\n",
    "#create a new column for predicted values for each product_id and transaction_weekday"
   ]
  },
  {
   "cell_type": "code",
   "execution_count": 1950,
   "id": "547061bc",
   "metadata": {},
   "outputs": [
    {
     "data": {
      "text/html": [
       "<div>\n",
       "<style scoped>\n",
       "    .dataframe tbody tr th:only-of-type {\n",
       "        vertical-align: middle;\n",
       "    }\n",
       "\n",
       "    .dataframe tbody tr th {\n",
       "        vertical-align: top;\n",
       "    }\n",
       "\n",
       "    .dataframe thead th {\n",
       "        text-align: right;\n",
       "    }\n",
       "</style>\n",
       "<table border=\"1\" class=\"dataframe\">\n",
       "  <thead>\n",
       "    <tr style=\"text-align: right;\">\n",
       "      <th></th>\n",
       "      <th>sales_outlet_id</th>\n",
       "      <th>product_id</th>\n",
       "      <th>start_of_day</th>\n",
       "      <th>quantity_sold</th>\n",
       "      <th>waste</th>\n",
       "      <th>transaction_weekday</th>\n",
       "      <th>quantity_consumed</th>\n",
       "    </tr>\n",
       "  </thead>\n",
       "  <tbody>\n",
       "    <tr>\n",
       "      <th>count</th>\n",
       "      <td>307.000000</td>\n",
       "      <td>307.000000</td>\n",
       "      <td>307.000000</td>\n",
       "      <td>307.000000</td>\n",
       "      <td>307.000000</td>\n",
       "      <td>307.000000</td>\n",
       "      <td>307.000000</td>\n",
       "    </tr>\n",
       "    <tr>\n",
       "      <th>mean</th>\n",
       "      <td>5.394137</td>\n",
       "      <td>70.983713</td>\n",
       "      <td>24.058632</td>\n",
       "      <td>9.296417</td>\n",
       "      <td>14.657980</td>\n",
       "      <td>2.993485</td>\n",
       "      <td>14.762215</td>\n",
       "    </tr>\n",
       "    <tr>\n",
       "      <th>std</th>\n",
       "      <td>2.049477</td>\n",
       "      <td>1.417582</td>\n",
       "      <td>12.063414</td>\n",
       "      <td>5.440115</td>\n",
       "      <td>11.202108</td>\n",
       "      <td>2.022736</td>\n",
       "      <td>11.109915</td>\n",
       "    </tr>\n",
       "    <tr>\n",
       "      <th>min</th>\n",
       "      <td>3.000000</td>\n",
       "      <td>69.000000</td>\n",
       "      <td>18.000000</td>\n",
       "      <td>0.000000</td>\n",
       "      <td>0.000000</td>\n",
       "      <td>0.000000</td>\n",
       "      <td>0.000000</td>\n",
       "    </tr>\n",
       "    <tr>\n",
       "      <th>25%</th>\n",
       "      <td>3.000000</td>\n",
       "      <td>70.000000</td>\n",
       "      <td>18.000000</td>\n",
       "      <td>6.000000</td>\n",
       "      <td>8.000000</td>\n",
       "      <td>1.000000</td>\n",
       "      <td>8.000000</td>\n",
       "    </tr>\n",
       "    <tr>\n",
       "      <th>50%</th>\n",
       "      <td>5.000000</td>\n",
       "      <td>71.000000</td>\n",
       "      <td>18.000000</td>\n",
       "      <td>8.000000</td>\n",
       "      <td>11.000000</td>\n",
       "      <td>3.000000</td>\n",
       "      <td>11.000000</td>\n",
       "    </tr>\n",
       "    <tr>\n",
       "      <th>75%</th>\n",
       "      <td>8.000000</td>\n",
       "      <td>72.000000</td>\n",
       "      <td>18.000000</td>\n",
       "      <td>11.000000</td>\n",
       "      <td>15.000000</td>\n",
       "      <td>5.000000</td>\n",
       "      <td>15.000000</td>\n",
       "    </tr>\n",
       "    <tr>\n",
       "      <th>max</th>\n",
       "      <td>8.000000</td>\n",
       "      <td>73.000000</td>\n",
       "      <td>48.000000</td>\n",
       "      <td>32.000000</td>\n",
       "      <td>47.000000</td>\n",
       "      <td>6.000000</td>\n",
       "      <td>47.000000</td>\n",
       "    </tr>\n",
       "  </tbody>\n",
       "</table>\n",
       "</div>"
      ],
      "text/plain": [
       "       sales_outlet_id  product_id  start_of_day  quantity_sold       waste  \\\n",
       "count       307.000000  307.000000    307.000000     307.000000  307.000000   \n",
       "mean          5.394137   70.983713     24.058632       9.296417   14.657980   \n",
       "std           2.049477    1.417582     12.063414       5.440115   11.202108   \n",
       "min           3.000000   69.000000     18.000000       0.000000    0.000000   \n",
       "25%           3.000000   70.000000     18.000000       6.000000    8.000000   \n",
       "50%           5.000000   71.000000     18.000000       8.000000   11.000000   \n",
       "75%           8.000000   72.000000     18.000000      11.000000   15.000000   \n",
       "max           8.000000   73.000000     48.000000      32.000000   47.000000   \n",
       "\n",
       "       transaction_weekday  quantity_consumed  \n",
       "count           307.000000         307.000000  \n",
       "mean              2.993485          14.762215  \n",
       "std               2.022736          11.109915  \n",
       "min               0.000000           0.000000  \n",
       "25%               1.000000           8.000000  \n",
       "50%               3.000000          11.000000  \n",
       "75%               5.000000          15.000000  \n",
       "max               6.000000          47.000000  "
      ]
     },
     "execution_count": 1950,
     "metadata": {},
     "output_type": "execute_result"
    }
   ],
   "source": [
    "df.describe()"
   ]
  },
  {
   "cell_type": "code",
   "execution_count": 1951,
   "id": "3a5041ec",
   "metadata": {},
   "outputs": [
    {
     "name": "stdout",
     "output_type": "stream",
     "text": [
      "<class 'pandas.core.frame.DataFrame'>\n",
      "Int64Index: 307 entries, 0 to 306\n",
      "Data columns (total 7 columns):\n",
      " #   Column               Non-Null Count  Dtype\n",
      "---  ------               --------------  -----\n",
      " 0   sales_outlet_id      307 non-null    int64\n",
      " 1   product_id           307 non-null    int64\n",
      " 2   start_of_day         307 non-null    int64\n",
      " 3   quantity_sold        307 non-null    int64\n",
      " 4   waste                307 non-null    int64\n",
      " 5   transaction_weekday  307 non-null    int64\n",
      " 6   quantity_consumed    307 non-null    int64\n",
      "dtypes: int64(7)\n",
      "memory usage: 19.2 KB\n"
     ]
    }
   ],
   "source": [
    "df.info()"
   ]
  },
  {
   "cell_type": "markdown",
   "id": "683fee50",
   "metadata": {},
   "source": [
    "# Data Analysis"
   ]
  },
  {
   "cell_type": "code",
   "execution_count": 1952,
   "id": "f2c0bdf2",
   "metadata": {},
   "outputs": [
    {
     "data": {
      "image/png": "[encoded data removed]",
      "text/plain": [
       "<Figure size 1152x432 with 2 Axes>"
      ]
     },
     "metadata": {
      "needs_background": "light"
     },
     "output_type": "display_data"
    }
   ],
   "source": [
    "#  Displays the data correlation between the features.\n",
    "#  Strong correlation between the start_of_day and the waste\n",
    "plt.figure(figsize=(16, 6))\n",
    "heatmap = sns.heatmap(df.corr(), annot = True)\n",
    "heatmap.set_title('Correlation Heatmap', fontdict={'fontsize':18}, pad=12);\n",
    "plt.show()"
   ]
  },
  {
   "cell_type": "code",
   "execution_count": 1953,
   "id": "32096e86",
   "metadata": {},
   "outputs": [
    {
     "data": {
      "text/plain": [
       "<seaborn.axisgrid.FacetGrid at 0x11e44d0d3d0>"
      ]
     },
     "execution_count": 1953,
     "metadata": {},
     "output_type": "execute_result"
    },
    {
     "data": {
      "image/png": "[encoded data removed]",
      "text/plain": [
       "<Figure size 360x360 with 1 Axes>"
      ]
     },
     "metadata": {
      "needs_background": "light"
     },
     "output_type": "display_data"
    }
   ],
   "source": [
    "sns.lmplot(x='product_id', y ='quantity_consumed', data=df)"
   ]
  },
  {
   "cell_type": "markdown",
   "id": "cef150ea",
   "metadata": {},
   "source": [
    "# Creating Data Model"
   ]
  },
  {
   "cell_type": "code",
   "execution_count": 2020,
   "id": "2f62f808",
   "metadata": {},
   "outputs": [],
   "source": [
    "#Defining targer and predictor columns\n",
    "target_column = ['quantity_consumed'] \n",
    "predictors = [\"product_id\", \"transaction_weekday\", \"waste\"]"
   ]
  },
  {
   "cell_type": "code",
   "execution_count": 2035,
   "id": "b77c2016",
   "metadata": {},
   "outputs": [
    {
     "name": "stdout",
     "output_type": "stream",
     "text": [
      "(214, 3)\n",
      "(93, 3)\n"
     ]
    }
   ],
   "source": [
    "#Creating the training and test data\n",
    "X = df[predictors].values\n",
    "y = df[target_column].values\n",
    "X_train, X_test, y_train, y_test = train_test_split(X, y, test_size=0.30)\n",
    "print(X_train.shape); print(X_test.shape)"
   ]
  },
  {
   "cell_type": "markdown",
   "id": "b8c1453b",
   "metadata": {},
   "source": [
    "# Linear Regression "
   ]
  },
  {
   "cell_type": "code",
   "execution_count": 2022,
   "id": "37717487",
   "metadata": {},
   "outputs": [],
   "source": [
    "lr = LinearRegression()\n",
    "lr_model = lr.fit(X_train, y_train)"
   ]
  },
  {
   "cell_type": "code",
   "execution_count": 2023,
   "id": "d0bfa04d",
   "metadata": {
    "scrolled": true
   },
   "outputs": [
    {
     "data": {
      "text/html": [
       "<div>\n",
       "<style scoped>\n",
       "    .dataframe tbody tr th:only-of-type {\n",
       "        vertical-align: middle;\n",
       "    }\n",
       "\n",
       "    .dataframe tbody tr th {\n",
       "        vertical-align: top;\n",
       "    }\n",
       "\n",
       "    .dataframe thead th {\n",
       "        text-align: right;\n",
       "    }\n",
       "</style>\n",
       "<table border=\"1\" class=\"dataframe\">\n",
       "  <thead>\n",
       "    <tr style=\"text-align: right;\">\n",
       "      <th></th>\n",
       "      <th>Coeffecient</th>\n",
       "    </tr>\n",
       "  </thead>\n",
       "  <tbody>\n",
       "    <tr>\n",
       "      <th>product_id</th>\n",
       "      <td>-0.068839</td>\n",
       "    </tr>\n",
       "    <tr>\n",
       "      <th>transaction_weekday</th>\n",
       "      <td>-0.000064</td>\n",
       "    </tr>\n",
       "    <tr>\n",
       "      <th>waste</th>\n",
       "      <td>0.991883</td>\n",
       "    </tr>\n",
       "  </tbody>\n",
       "</table>\n",
       "</div>"
      ],
      "text/plain": [
       "                     Coeffecient\n",
       "product_id             -0.068839\n",
       "transaction_weekday    -0.000064\n",
       "waste                   0.991883"
      ]
     },
     "execution_count": 2023,
     "metadata": {},
     "output_type": "execute_result"
    }
   ],
   "source": [
    "# Coefficients for product_id, waste, and transaction_weekday, respectively.\n",
    "coeffecients = pd.DataFrame(lr.coef_[0], df[predictors].columns)\n",
    "coeffecients.columns = ['Coeffecient']\n",
    "coeffecients"
   ]
  },
  {
   "cell_type": "code",
   "execution_count": 2024,
   "id": "9be7220e",
   "metadata": {},
   "outputs": [],
   "source": [
    "pred_test_lr = lr.predict(X_test)"
   ]
  },
  {
   "cell_type": "code",
   "execution_count": 2025,
   "id": "407806ef",
   "metadata": {},
   "outputs": [
    {
     "name": "stdout",
     "output_type": "stream",
     "text": [
      "Root Mean Square Deviation: 1.8818624941349174\n",
      "Coefficient of Determination: 0.9747422870602339\n"
     ]
    }
   ],
   "source": [
    "# Using sklearn metrics R2 Score and Mean Squared Error to validate the performance of the model.\n",
    "from sklearn.metrics import r2_score\n",
    "from sklearn.metrics import mean_squared_error\n",
    "print(\"Root Mean Square Deviation: \" + str(np.sqrt(mean_squared_error(y_test,pred_test_lr))))\n",
    "print(\"Coefficient of Determination: \" + str(r2_score(y_test, pred_test_lr)))"
   ]
  },
  {
   "cell_type": "code",
   "execution_count": 1960,
   "id": "da4942bd",
   "metadata": {},
   "outputs": [
    {
     "data": {
      "text/plain": [
       "Text(0, 0.5, 'Prediction Data')"
      ]
     },
     "execution_count": 1960,
     "metadata": {},
     "output_type": "execute_result"
    },
    {
     "data": {
      "image/png": "[encoded data removed]",
      "text/plain": [
       "<Figure size 432x288 with 1 Axes>"
      ]
     },
     "metadata": {
      "needs_background": "light"
     },
     "output_type": "display_data"
    }
   ],
   "source": [
    "plt.scatter(y_test, pred_test_lr)\n",
    "plt.xlabel('Y Test')\n",
    "plt.ylabel('Linear Prediction Data')"
   ]
  },
  {
   "cell_type": "code",
   "execution_count": 662,
   "id": "c5366b27",
   "metadata": {},
   "outputs": [
    {
     "name": "stdout",
     "output_type": "stream",
     "text": [
      "Number of this pastry item needed on a Friday: 5\n"
     ]
    }
   ],
   "source": [
    "myvals = np.array([70, 4, 0]).reshape(1, -1)\n",
    "print(\"Number of this pastry item needed on a Friday: \" \n",
    "      + str(math.ceil(lr_model.predict(myvals)[0][0])))"
   ]
  },
  {
   "cell_type": "markdown",
   "id": "eb279639",
   "metadata": {},
   "source": [
    "# Ridge Regression"
   ]
  },
  {
   "cell_type": "code",
   "execution_count": 1999,
   "id": "02c1698a",
   "metadata": {},
   "outputs": [],
   "source": [
    "from sklearn.linear_model import Ridge\n",
    "rr = Ridge()\n",
    "rr_model = rr.fit(X_train, y_train)"
   ]
  },
  {
   "cell_type": "code",
   "execution_count": 2000,
   "id": "355bd29f",
   "metadata": {},
   "outputs": [],
   "source": [
    "pred_test_rr = rr.predict(X_test)"
   ]
  },
  {
   "cell_type": "code",
   "execution_count": 2001,
   "id": "8315206e",
   "metadata": {},
   "outputs": [
    {
     "name": "stdout",
     "output_type": "stream",
     "text": [
      "Root Mean Square Deviation: 0.3484111411912504\n",
      "Coefficient of Determination: 0.9991450731344008\n"
     ]
    }
   ],
   "source": [
    "# Using sklearn metrics R2 Score and Mean Squared Error to validate the performance of the model.\n",
    "from sklearn.metrics import r2_score\n",
    "from sklearn.metrics import mean_squared_error\n",
    "print(\"Root Mean Square Deviation: \" + str(np.sqrt(mean_squared_error(y_test,pred_test_rr))))\n",
    "print(\"Coefficient of Determination: \" + str(r2_score(y_test, pred_test_rr)))"
   ]
  },
  {
   "cell_type": "code",
   "execution_count": 2002,
   "id": "849f6040",
   "metadata": {},
   "outputs": [
    {
     "data": {
      "text/plain": [
       "Text(0, 0.5, 'Ridge Predicted Data')"
      ]
     },
     "execution_count": 2002,
     "metadata": {},
     "output_type": "execute_result"
    },
    {
     "data": {
      "image/png": "[encoded data removed]",
      "text/plain": [
       "<Figure size 432x288 with 1 Axes>"
      ]
     },
     "metadata": {
      "needs_background": "light"
     },
     "output_type": "display_data"
    }
   ],
   "source": [
    "plt.scatter(y_test, pred_test_rr)\n",
    "plt.xlabel('Y Test')\n",
    "plt.ylabel('Ridge Predicted Data')"
   ]
  },
  {
   "cell_type": "markdown",
   "id": "15804aad",
   "metadata": {},
   "source": [
    "# Bayesian Linear Regression"
   ]
  },
  {
   "cell_type": "code",
   "execution_count": 2031,
   "id": "c4b35080",
   "metadata": {},
   "outputs": [],
   "source": [
    "from sklearn.linear_model import BayesianRidge\n",
    "brl = BayesianRidge()\n",
    "brl_model = brl.fit(X_train, y_train.ravel())"
   ]
  },
  {
   "cell_type": "code",
   "execution_count": 2032,
   "id": "5244b27d",
   "metadata": {},
   "outputs": [],
   "source": [
    "pred_test_brl = brl.predict(X_test)"
   ]
  },
  {
   "cell_type": "code",
   "execution_count": 2033,
   "id": "609617b5",
   "metadata": {},
   "outputs": [
    {
     "name": "stdout",
     "output_type": "stream",
     "text": [
      "Root Mean Square Deviation: 1.8844421527484774\n",
      "Coefficient of Determination: 0.9694979669634065\n"
     ]
    }
   ],
   "source": [
    "# Using sklearn metrics Coefficient of Determination and Root Mean Square Deviation to validate the performance of the model.\n",
    "rmsd_brl = np.sqrt(mean_squared_error(y_test,pred_test_brl))\n",
    "cd_brl = r2_score(y_test, pred_test_brl)\n",
    "print(\"Root Mean Square Deviation: \" + str(rmsd_brl))\n",
    "print(\"Coefficient of Determination: \" + str(cd_brl))"
   ]
  },
  {
   "cell_type": "code",
   "execution_count": 2034,
   "id": "55c622f0",
   "metadata": {},
   "outputs": [
    {
     "data": {
      "text/plain": [
       "Text(0, 0.5, 'Ridge Predicted Data')"
      ]
     },
     "execution_count": 2034,
     "metadata": {},
     "output_type": "execute_result"
    },
    {
     "data": {
      "image/png": "[encoded data removed]",
      "text/plain": [
       "<Figure size 432x288 with 1 Axes>"
      ]
     },
     "metadata": {
      "needs_background": "light"
     },
     "output_type": "display_data"
    }
   ],
   "source": [
    "plt.scatter(y_test, pred_test_brl)\n",
    "plt.xlabel('Y Test')\n",
    "plt.ylabel('Ridge Predicted Data')"
   ]
  },
  {
   "cell_type": "markdown",
   "id": "c23bd3a3",
   "metadata": {},
   "source": [
    "# Lasso Regression"
   ]
  },
  {
   "cell_type": "code",
   "execution_count": 2036,
   "id": "fc33dd8b",
   "metadata": {},
   "outputs": [],
   "source": [
    "from sklearn.linear_model import Lasso\n",
    "lar = Lasso(alpha=0.01)\n",
    "lar_model = lar.fit(X_train, y_train.ravel())"
   ]
  },
  {
   "cell_type": "code",
   "execution_count": 2037,
   "id": "45579bdb",
   "metadata": {},
   "outputs": [],
   "source": [
    "pred_test_lar = lar.predict(X_test)"
   ]
  },
  {
   "cell_type": "code",
   "execution_count": 2038,
   "id": "07bd328a",
   "metadata": {},
   "outputs": [
    {
     "name": "stdout",
     "output_type": "stream",
     "text": [
      "Root Mean Square Deviation: 1.840220082952157\n",
      "Coefficient of Determination: 0.9668725261730656\n"
     ]
    }
   ],
   "source": [
    "# Using sklearn metrics Coefficient of Determination and Root Mean Square Deviation to validate the performance of the model.\n",
    "rmsd_lar = np.sqrt(mean_squared_error(y_test,pred_test_lar))\n",
    "cd_lar = r2_score(y_test, pred_test_lar)\n",
    "print(\"Root Mean Square Deviation: \" + str(rmsd_lar))\n",
    "print(\"Coefficient of Determination: \" + str(cd_lar))"
   ]
  },
  {
   "cell_type": "code",
   "execution_count": 2040,
   "id": "8bf6d61b",
   "metadata": {},
   "outputs": [
    {
     "data": {
      "text/plain": [
       "Text(0, 0.5, 'lasso Predicted Data')"
      ]
     },
     "execution_count": 2040,
     "metadata": {},
     "output_type": "execute_result"
    },
    {
     "data": {
      "image/png": "[encoded data removed]",
      "text/plain": [
       "<Figure size 432x288 with 1 Axes>"
      ]
     },
     "metadata": {
      "needs_background": "light"
     },
     "output_type": "display_data"
    }
   ],
   "source": [
    "plt.scatter(y_test, pred_test_lar)\n",
    "plt.xlabel('Y Test')\n",
    "plt.ylabel('lasso Predicted Data')"
   ]
  }
 ],
 "metadata": {
  "kernelspec": {
   "display_name": "Python 3",
   "language": "python",
   "name": "python3"
  },
  "language_info": {
   "codemirror_mode": {
    "name": "ipython",
    "version": 3
   },
   "file_extension": ".py",
   "mimetype": "text/x-python",
   "name": "python",
   "nbconvert_exporter": "python",
   "pygments_lexer": "ipython3",
   "version": "3.8.5"
  }
 },
 "nbformat": 4,
 "nbformat_minor": 5
}
